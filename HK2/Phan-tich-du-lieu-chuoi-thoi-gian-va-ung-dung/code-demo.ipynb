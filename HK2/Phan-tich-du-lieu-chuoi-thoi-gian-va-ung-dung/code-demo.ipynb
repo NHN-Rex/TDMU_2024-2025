{
 "cells": [
  {
   "cell_type": "markdown",
   "metadata": {},
   "source": [
    "Thu thập dữ liệu"
   ]
  },
  {
   "cell_type": "code",
   "execution_count": 29,
   "metadata": {},
   "outputs": [
    {
     "name": "stderr",
     "output_type": "stream",
     "text": [
      "[2025-01-13 11:08:57] - Assitant - INFO      - download - line 34 - Start downloading data symbols ['VND'] from CAFEF, start: 01/01/2019, end: 09/12/2019!\n",
      "[2025-01-13 11:08:57] - Assitant - INFO      - download_one - line 94 - data VND from 2019-01-01 to 2019-12-09 have already cloned!\n"
     ]
    },
    {
     "data": {
      "text/html": [
       "<div>\n",
       "<style scoped>\n",
       "    .dataframe tbody tr th:only-of-type {\n",
       "        vertical-align: middle;\n",
       "    }\n",
       "\n",
       "    .dataframe tbody tr th {\n",
       "        vertical-align: top;\n",
       "    }\n",
       "\n",
       "    .dataframe thead tr th {\n",
       "        text-align: left;\n",
       "    }\n",
       "\n",
       "    .dataframe thead tr:last-of-type th {\n",
       "        text-align: right;\n",
       "    }\n",
       "</style>\n",
       "<table border=\"1\" class=\"dataframe\">\n",
       "  <thead>\n",
       "    <tr>\n",
       "      <th>Attributes</th>\n",
       "      <th>code</th>\n",
       "      <th>high</th>\n",
       "      <th>low</th>\n",
       "      <th>open</th>\n",
       "      <th>close</th>\n",
       "      <th>adjust</th>\n",
       "      <th>volume_match</th>\n",
       "      <th>value_match</th>\n",
       "    </tr>\n",
       "    <tr>\n",
       "      <th>Symbols</th>\n",
       "      <th>VND</th>\n",
       "      <th>VND</th>\n",
       "      <th>VND</th>\n",
       "      <th>VND</th>\n",
       "      <th>VND</th>\n",
       "      <th>VND</th>\n",
       "      <th>VND</th>\n",
       "      <th>VND</th>\n",
       "    </tr>\n",
       "    <tr>\n",
       "      <th>date</th>\n",
       "      <th></th>\n",
       "      <th></th>\n",
       "      <th></th>\n",
       "      <th></th>\n",
       "      <th></th>\n",
       "      <th></th>\n",
       "      <th></th>\n",
       "      <th></th>\n",
       "    </tr>\n",
       "  </thead>\n",
       "  <tbody>\n",
       "    <tr>\n",
       "      <th>2025-01-13</th>\n",
       "      <td>VND</td>\n",
       "      <td>11.45</td>\n",
       "      <td>11.30</td>\n",
       "      <td>11.35</td>\n",
       "      <td>11.35</td>\n",
       "      <td>11.35</td>\n",
       "      <td>3411100.0</td>\n",
       "      <td>3.881200e+10</td>\n",
       "    </tr>\n",
       "    <tr>\n",
       "      <th>2019-12-09</th>\n",
       "      <td>VND</td>\n",
       "      <td>13.85</td>\n",
       "      <td>13.75</td>\n",
       "      <td>13.85</td>\n",
       "      <td>13.85</td>\n",
       "      <td>2.78</td>\n",
       "      <td>113990.0</td>\n",
       "      <td>1.577000e+09</td>\n",
       "    </tr>\n",
       "    <tr>\n",
       "      <th>2019-12-06</th>\n",
       "      <td>VND</td>\n",
       "      <td>13.90</td>\n",
       "      <td>13.65</td>\n",
       "      <td>13.70</td>\n",
       "      <td>13.85</td>\n",
       "      <td>2.78</td>\n",
       "      <td>91840.0</td>\n",
       "      <td>1.268000e+09</td>\n",
       "    </tr>\n",
       "    <tr>\n",
       "      <th>2019-12-05</th>\n",
       "      <td>VND</td>\n",
       "      <td>13.85</td>\n",
       "      <td>13.65</td>\n",
       "      <td>13.85</td>\n",
       "      <td>13.85</td>\n",
       "      <td>2.78</td>\n",
       "      <td>131810.0</td>\n",
       "      <td>1.816000e+09</td>\n",
       "    </tr>\n",
       "    <tr>\n",
       "      <th>2019-12-04</th>\n",
       "      <td>VND</td>\n",
       "      <td>13.85</td>\n",
       "      <td>13.65</td>\n",
       "      <td>13.70</td>\n",
       "      <td>13.85</td>\n",
       "      <td>2.78</td>\n",
       "      <td>120830.0</td>\n",
       "      <td>1.662000e+09</td>\n",
       "    </tr>\n",
       "  </tbody>\n",
       "</table>\n",
       "</div>"
      ],
      "text/plain": [
       "Attributes code   high    low   open  close adjust volume_match   value_match\n",
       "Symbols     VND    VND    VND    VND    VND    VND          VND           VND\n",
       "date                                                                         \n",
       "2025-01-13  VND  11.45  11.30  11.35  11.35  11.35    3411100.0  3.881200e+10\n",
       "2019-12-09  VND  13.85  13.75  13.85  13.85   2.78     113990.0  1.577000e+09\n",
       "2019-12-06  VND  13.90  13.65  13.70  13.85   2.78      91840.0  1.268000e+09\n",
       "2019-12-05  VND  13.85  13.65  13.85  13.85   2.78     131810.0  1.816000e+09\n",
       "2019-12-04  VND  13.85  13.65  13.70  13.85   2.78     120830.0  1.662000e+09"
      ]
     },
     "execution_count": 29,
     "metadata": {},
     "output_type": "execute_result"
    }
   ],
   "source": [
    "import vnquant.data as dt\n",
    "loader = dt.DataLoader('VND', '2019-01-01', '2019-12-09', minimal=False)\n",
    "\n",
    "data = loader.download()\n",
    "data.head()"
   ]
  },
  {
   "cell_type": "code",
   "execution_count": 26,
   "metadata": {},
   "outputs": [
    {
     "data": {
      "application/vnd.plotly.v1+json": {
       "config": {
        "plotlyServerURL": "https://plot.ly"
       },
       "data": [
        {
         "close": {
          "bdata": "MzMzMzOzJkDNzMzMzIw9QM3MzMzMDD1AAAAAAAAAPUBmZmZmZqY8QAAAAAAAADxAAAAAAACAPEBmZmZmZuY6QJqZmZmZmTtAMzMzMzOzPEDNzMzMzAw9QAAAAAAAgD1AZmZmZmYmPUAzMzMzMzM9QJqZmZmZWTxAZmZmZmZmO0AAAAAAAAA7QAAAAAAAgDtAMzMzMzNzO0AAAAAAAIA7QJqZmZmZWTpAZmZmZmamOEAAAAAAAIA6QDMzMzMzszpAMzMzMzMzO0AAAAAAAAA6QAAAAAAAgD9AMzMzMzPzPUAAAAAAAIA9QDMzMzMzcz5AmpmZmZmZPUAAAAAAAIA9QAAAAAAAgDxAAAAAAAAAPEAzMzMzMzM8QGZmZmZmZjpAMzMzMzPzOkAzMzMzM/M8QA==",
          "dtype": "f8"
         },
         "decreasing": {
          "line": {
           "color": "red"
          }
         },
         "high": {
          "bdata": "ZmZmZmbmJkDNzMzMzMw9QAAAAAAAgD1AAAAAAAAAPUBmZmZmZqY8QM3MzMzMjDxAAAAAAACAPEAzMzMzMzM7QM3MzMzMzDxAZmZmZmZmPUAzMzMzM7M9QGZmZmZm5j1AAAAAAACAPUAzMzMzMzM9QJqZmZmZmTxAMzMzMzNzO0DNzMzMzMw7QM3MzMzMTDxAZmZmZmbmO0BmZmZmZiY8QJqZmZmZWTpAZmZmZmbmOkAAAAAAAMA6QGZmZmZmZjtAMzMzMzOzO0AAAAAAAAA6QDMzMzMz8z9AAAAAAAAAPkCamZmZmVk+QGZmZmZmpj5AZmZmZmYmPkAAAAAAAIA9QAAAAAAAgDxAMzMzMzMzPUAzMzMzMzM8QDMzMzMz8zpAMzMzMzNzPEAzMzMzM/M8QA==",
          "dtype": "f8"
         },
         "increasing": {
          "line": {
           "color": "blue"
          }
         },
         "low": {
          "bdata": "mpmZmZmZJkCamZmZmRk9QAAAAAAAwDxAAAAAAABAPECamZmZmZk7QAAAAAAAwDtAzczMzMzMOkDNzMzMzEw6QM3MzMzMzDpAmpmZmZmZPEAAAAAAAAA9QGZmZmZmJj1AZmZmZmbmPEAzMzMzMzM8QGZmZmZm5jtAZmZmZmbmOkBmZmZmZuY6QGZmZmZmZjtAmpmZmZkZO0DNzMzMzMw6QDMzMzMzszhAZmZmZmamOEAAAAAAAAA6QAAAAAAAADpAzczMzMxMOUAzMzMzM/M4QGZmZmZmZj5AAAAAAAAAPUAzMzMzMzM9QJqZmZmZ2T1AAAAAAACAPUCamZmZmZk8QGZmZmZmZjpAMzMzMzOzO0AAAAAAAIA7QJqZmZmZGTlAMzMzMzPzOkCamZmZmZk7QA==",
          "dtype": "f8"
         },
         "open": {
          "bdata": "MzMzMzOzJkCamZmZmRk9QAAAAAAAAD1AAAAAAACAPEAAAAAAAMA7QM3MzMzMjDxAZmZmZmbmOkDNzMzMzEw6QM3MzMzMzDxAZmZmZmYmPUAAAAAAAAA9QAAAAAAAgD1AZmZmZmYmPUCamZmZmVk8QGZmZmZm5jtAzczMzMxMO0AAAAAAAAA7QAAAAAAAADxAAAAAAACAO0BmZmZmZuY6QM3MzMzMTDlAzczMzMzMOkAAAAAAAAA6QJqZmZmZmTpAmpmZmZmZOUAAAAAAAIA5QGZmZmZmZj5AzczMzMzMPUAAAAAAAAA+QAAAAAAAAD5AMzMzMzOzPUCamZmZmVk9QGZmZmZmZjpAAAAAAAAAPEAAAAAAAIA7QGZmZmZmZjpAmpmZmZkZPEAAAAAAAIA8QA==",
          "dtype": "f8"
         },
         "type": "candlestick",
         "x": [
          "2025-01-13T00:00:00.000000000",
          "2018-04-02T00:00:00.000000000",
          "2018-03-30T00:00:00.000000000",
          "2018-03-29T00:00:00.000000000",
          "2018-03-28T00:00:00.000000000",
          "2018-03-27T00:00:00.000000000",
          "2018-03-26T00:00:00.000000000",
          "2018-03-23T00:00:00.000000000",
          "2018-03-22T00:00:00.000000000",
          "2018-03-21T00:00:00.000000000",
          "2018-03-20T00:00:00.000000000",
          "2018-03-19T00:00:00.000000000",
          "2018-03-16T00:00:00.000000000",
          "2018-03-15T00:00:00.000000000",
          "2018-03-14T00:00:00.000000000",
          "2018-03-13T00:00:00.000000000",
          "2018-03-12T00:00:00.000000000",
          "2018-03-09T00:00:00.000000000",
          "2018-03-08T00:00:00.000000000",
          "2018-03-07T00:00:00.000000000",
          "2018-03-06T00:00:00.000000000",
          "2018-03-05T00:00:00.000000000",
          "2018-03-02T00:00:00.000000000",
          "2018-03-01T00:00:00.000000000",
          "2018-02-28T00:00:00.000000000",
          "2018-02-27T00:00:00.000000000",
          "2018-02-26T00:00:00.000000000",
          "2018-02-23T00:00:00.000000000",
          "2018-02-22T00:00:00.000000000",
          "2018-02-21T00:00:00.000000000",
          "2018-02-13T00:00:00.000000000",
          "2018-02-12T00:00:00.000000000",
          "2018-02-09T00:00:00.000000000",
          "2018-02-08T00:00:00.000000000",
          "2018-02-07T00:00:00.000000000",
          "2018-02-06T00:00:00.000000000",
          "2018-02-05T00:00:00.000000000",
          "2018-02-02T00:00:00.000000000"
         ],
         "xaxis": "x",
         "yaxis": "y"
        },
        {
         "name": "Volume",
         "type": "bar",
         "x": [
          "2025-01-13T00:00:00.000000000",
          "2018-04-02T00:00:00.000000000",
          "2018-03-30T00:00:00.000000000",
          "2018-03-29T00:00:00.000000000",
          "2018-03-28T00:00:00.000000000",
          "2018-03-27T00:00:00.000000000",
          "2018-03-26T00:00:00.000000000",
          "2018-03-23T00:00:00.000000000",
          "2018-03-22T00:00:00.000000000",
          "2018-03-21T00:00:00.000000000",
          "2018-03-20T00:00:00.000000000",
          "2018-03-19T00:00:00.000000000",
          "2018-03-16T00:00:00.000000000",
          "2018-03-15T00:00:00.000000000",
          "2018-03-14T00:00:00.000000000",
          "2018-03-13T00:00:00.000000000",
          "2018-03-12T00:00:00.000000000",
          "2018-03-09T00:00:00.000000000",
          "2018-03-08T00:00:00.000000000",
          "2018-03-07T00:00:00.000000000",
          "2018-03-06T00:00:00.000000000",
          "2018-03-05T00:00:00.000000000",
          "2018-03-02T00:00:00.000000000",
          "2018-03-01T00:00:00.000000000",
          "2018-02-28T00:00:00.000000000",
          "2018-02-27T00:00:00.000000000",
          "2018-02-26T00:00:00.000000000",
          "2018-02-23T00:00:00.000000000",
          "2018-02-22T00:00:00.000000000",
          "2018-02-21T00:00:00.000000000",
          "2018-02-13T00:00:00.000000000",
          "2018-02-12T00:00:00.000000000",
          "2018-02-09T00:00:00.000000000",
          "2018-02-08T00:00:00.000000000",
          "2018-02-07T00:00:00.000000000",
          "2018-02-06T00:00:00.000000000",
          "2018-02-05T00:00:00.000000000",
          "2018-02-02T00:00:00.000000000"
         ],
         "xaxis": "x2",
         "y": {
          "bdata": "AAAAAM75SUEAAAAAjldAQQAAAADAwTlBAAAAAPTAM0EAAAAAltE1QQAAAAA0wkNBAAAAAI6cNkEAAAAASXNBQQAAAADMblVBAAAAAPDBNkEAAAAALsI0QQAAAAC2SzdBAAAAAMhtRUEAAAAAlBI9QQAAAAAe+T9BAAAAAEz0KUEAAAAAIPAsQQAAAAA2RTZBAAAAAMxbKUEAAAAAorlMQQAAAAB2IzZBAAAAAAKyPkEAAAAAhME0QQAAAABcoDxBAAAAAK4fOUEAAAAAT2hLQQAAAAD8uE1BAAAAALKzN0EAAAAA2AAzQQAAAACoBjVBAAAAAPTiLkEAAAAAWF4sQQAAAADoBzBBAAAAADjJLEEAAAAAYEo+QQAAAACt4EdBAAAAAHRnQEEAAAAAPvM5QQ==",
          "dtype": "f8"
         },
         "yaxis": "y2"
        }
       ],
       "layout": {
        "showlegend": false,
        "template": {
         "data": {
          "bar": [
           {
            "error_x": {
             "color": "#2a3f5f"
            },
            "error_y": {
             "color": "#2a3f5f"
            },
            "marker": {
             "line": {
              "color": "#E5ECF6",
              "width": 0.5
             },
             "pattern": {
              "fillmode": "overlay",
              "size": 10,
              "solidity": 0.2
             }
            },
            "type": "bar"
           }
          ],
          "barpolar": [
           {
            "marker": {
             "line": {
              "color": "#E5ECF6",
              "width": 0.5
             },
             "pattern": {
              "fillmode": "overlay",
              "size": 10,
              "solidity": 0.2
             }
            },
            "type": "barpolar"
           }
          ],
          "carpet": [
           {
            "aaxis": {
             "endlinecolor": "#2a3f5f",
             "gridcolor": "white",
             "linecolor": "white",
             "minorgridcolor": "white",
             "startlinecolor": "#2a3f5f"
            },
            "baxis": {
             "endlinecolor": "#2a3f5f",
             "gridcolor": "white",
             "linecolor": "white",
             "minorgridcolor": "white",
             "startlinecolor": "#2a3f5f"
            },
            "type": "carpet"
           }
          ],
          "choropleth": [
           {
            "colorbar": {
             "outlinewidth": 0,
             "ticks": ""
            },
            "type": "choropleth"
           }
          ],
          "contour": [
           {
            "colorbar": {
             "outlinewidth": 0,
             "ticks": ""
            },
            "colorscale": [
             [
              0,
              "#0d0887"
             ],
             [
              0.1111111111111111,
              "#46039f"
             ],
             [
              0.2222222222222222,
              "#7201a8"
             ],
             [
              0.3333333333333333,
              "#9c179e"
             ],
             [
              0.4444444444444444,
              "#bd3786"
             ],
             [
              0.5555555555555556,
              "#d8576b"
             ],
             [
              0.6666666666666666,
              "#ed7953"
             ],
             [
              0.7777777777777778,
              "#fb9f3a"
             ],
             [
              0.8888888888888888,
              "#fdca26"
             ],
             [
              1,
              "#f0f921"
             ]
            ],
            "type": "contour"
           }
          ],
          "contourcarpet": [
           {
            "colorbar": {
             "outlinewidth": 0,
             "ticks": ""
            },
            "type": "contourcarpet"
           }
          ],
          "heatmap": [
           {
            "colorbar": {
             "outlinewidth": 0,
             "ticks": ""
            },
            "colorscale": [
             [
              0,
              "#0d0887"
             ],
             [
              0.1111111111111111,
              "#46039f"
             ],
             [
              0.2222222222222222,
              "#7201a8"
             ],
             [
              0.3333333333333333,
              "#9c179e"
             ],
             [
              0.4444444444444444,
              "#bd3786"
             ],
             [
              0.5555555555555556,
              "#d8576b"
             ],
             [
              0.6666666666666666,
              "#ed7953"
             ],
             [
              0.7777777777777778,
              "#fb9f3a"
             ],
             [
              0.8888888888888888,
              "#fdca26"
             ],
             [
              1,
              "#f0f921"
             ]
            ],
            "type": "heatmap"
           }
          ],
          "histogram": [
           {
            "marker": {
             "pattern": {
              "fillmode": "overlay",
              "size": 10,
              "solidity": 0.2
             }
            },
            "type": "histogram"
           }
          ],
          "histogram2d": [
           {
            "colorbar": {
             "outlinewidth": 0,
             "ticks": ""
            },
            "colorscale": [
             [
              0,
              "#0d0887"
             ],
             [
              0.1111111111111111,
              "#46039f"
             ],
             [
              0.2222222222222222,
              "#7201a8"
             ],
             [
              0.3333333333333333,
              "#9c179e"
             ],
             [
              0.4444444444444444,
              "#bd3786"
             ],
             [
              0.5555555555555556,
              "#d8576b"
             ],
             [
              0.6666666666666666,
              "#ed7953"
             ],
             [
              0.7777777777777778,
              "#fb9f3a"
             ],
             [
              0.8888888888888888,
              "#fdca26"
             ],
             [
              1,
              "#f0f921"
             ]
            ],
            "type": "histogram2d"
           }
          ],
          "histogram2dcontour": [
           {
            "colorbar": {
             "outlinewidth": 0,
             "ticks": ""
            },
            "colorscale": [
             [
              0,
              "#0d0887"
             ],
             [
              0.1111111111111111,
              "#46039f"
             ],
             [
              0.2222222222222222,
              "#7201a8"
             ],
             [
              0.3333333333333333,
              "#9c179e"
             ],
             [
              0.4444444444444444,
              "#bd3786"
             ],
             [
              0.5555555555555556,
              "#d8576b"
             ],
             [
              0.6666666666666666,
              "#ed7953"
             ],
             [
              0.7777777777777778,
              "#fb9f3a"
             ],
             [
              0.8888888888888888,
              "#fdca26"
             ],
             [
              1,
              "#f0f921"
             ]
            ],
            "type": "histogram2dcontour"
           }
          ],
          "mesh3d": [
           {
            "colorbar": {
             "outlinewidth": 0,
             "ticks": ""
            },
            "type": "mesh3d"
           }
          ],
          "parcoords": [
           {
            "line": {
             "colorbar": {
              "outlinewidth": 0,
              "ticks": ""
             }
            },
            "type": "parcoords"
           }
          ],
          "pie": [
           {
            "automargin": true,
            "type": "pie"
           }
          ],
          "scatter": [
           {
            "fillpattern": {
             "fillmode": "overlay",
             "size": 10,
             "solidity": 0.2
            },
            "type": "scatter"
           }
          ],
          "scatter3d": [
           {
            "line": {
             "colorbar": {
              "outlinewidth": 0,
              "ticks": ""
             }
            },
            "marker": {
             "colorbar": {
              "outlinewidth": 0,
              "ticks": ""
             }
            },
            "type": "scatter3d"
           }
          ],
          "scattercarpet": [
           {
            "marker": {
             "colorbar": {
              "outlinewidth": 0,
              "ticks": ""
             }
            },
            "type": "scattercarpet"
           }
          ],
          "scattergeo": [
           {
            "marker": {
             "colorbar": {
              "outlinewidth": 0,
              "ticks": ""
             }
            },
            "type": "scattergeo"
           }
          ],
          "scattergl": [
           {
            "marker": {
             "colorbar": {
              "outlinewidth": 0,
              "ticks": ""
             }
            },
            "type": "scattergl"
           }
          ],
          "scattermap": [
           {
            "marker": {
             "colorbar": {
              "outlinewidth": 0,
              "ticks": ""
             }
            },
            "type": "scattermap"
           }
          ],
          "scattermapbox": [
           {
            "marker": {
             "colorbar": {
              "outlinewidth": 0,
              "ticks": ""
             }
            },
            "type": "scattermapbox"
           }
          ],
          "scatterpolar": [
           {
            "marker": {
             "colorbar": {
              "outlinewidth": 0,
              "ticks": ""
             }
            },
            "type": "scatterpolar"
           }
          ],
          "scatterpolargl": [
           {
            "marker": {
             "colorbar": {
              "outlinewidth": 0,
              "ticks": ""
             }
            },
            "type": "scatterpolargl"
           }
          ],
          "scatterternary": [
           {
            "marker": {
             "colorbar": {
              "outlinewidth": 0,
              "ticks": ""
             }
            },
            "type": "scatterternary"
           }
          ],
          "surface": [
           {
            "colorbar": {
             "outlinewidth": 0,
             "ticks": ""
            },
            "colorscale": [
             [
              0,
              "#0d0887"
             ],
             [
              0.1111111111111111,
              "#46039f"
             ],
             [
              0.2222222222222222,
              "#7201a8"
             ],
             [
              0.3333333333333333,
              "#9c179e"
             ],
             [
              0.4444444444444444,
              "#bd3786"
             ],
             [
              0.5555555555555556,
              "#d8576b"
             ],
             [
              0.6666666666666666,
              "#ed7953"
             ],
             [
              0.7777777777777778,
              "#fb9f3a"
             ],
             [
              0.8888888888888888,
              "#fdca26"
             ],
             [
              1,
              "#f0f921"
             ]
            ],
            "type": "surface"
           }
          ],
          "table": [
           {
            "cells": {
             "fill": {
              "color": "#EBF0F8"
             },
             "line": {
              "color": "white"
             }
            },
            "header": {
             "fill": {
              "color": "#C8D4E3"
             },
             "line": {
              "color": "white"
             }
            },
            "type": "table"
           }
          ]
         },
         "layout": {
          "annotationdefaults": {
           "arrowcolor": "#2a3f5f",
           "arrowhead": 0,
           "arrowwidth": 1
          },
          "autotypenumbers": "strict",
          "coloraxis": {
           "colorbar": {
            "outlinewidth": 0,
            "ticks": ""
           }
          },
          "colorscale": {
           "diverging": [
            [
             0,
             "#8e0152"
            ],
            [
             0.1,
             "#c51b7d"
            ],
            [
             0.2,
             "#de77ae"
            ],
            [
             0.3,
             "#f1b6da"
            ],
            [
             0.4,
             "#fde0ef"
            ],
            [
             0.5,
             "#f7f7f7"
            ],
            [
             0.6,
             "#e6f5d0"
            ],
            [
             0.7,
             "#b8e186"
            ],
            [
             0.8,
             "#7fbc41"
            ],
            [
             0.9,
             "#4d9221"
            ],
            [
             1,
             "#276419"
            ]
           ],
           "sequential": [
            [
             0,
             "#0d0887"
            ],
            [
             0.1111111111111111,
             "#46039f"
            ],
            [
             0.2222222222222222,
             "#7201a8"
            ],
            [
             0.3333333333333333,
             "#9c179e"
            ],
            [
             0.4444444444444444,
             "#bd3786"
            ],
            [
             0.5555555555555556,
             "#d8576b"
            ],
            [
             0.6666666666666666,
             "#ed7953"
            ],
            [
             0.7777777777777778,
             "#fb9f3a"
            ],
            [
             0.8888888888888888,
             "#fdca26"
            ],
            [
             1,
             "#f0f921"
            ]
           ],
           "sequentialminus": [
            [
             0,
             "#0d0887"
            ],
            [
             0.1111111111111111,
             "#46039f"
            ],
            [
             0.2222222222222222,
             "#7201a8"
            ],
            [
             0.3333333333333333,
             "#9c179e"
            ],
            [
             0.4444444444444444,
             "#bd3786"
            ],
            [
             0.5555555555555556,
             "#d8576b"
            ],
            [
             0.6666666666666666,
             "#ed7953"
            ],
            [
             0.7777777777777778,
             "#fb9f3a"
            ],
            [
             0.8888888888888888,
             "#fdca26"
            ],
            [
             1,
             "#f0f921"
            ]
           ]
          },
          "colorway": [
           "#636efa",
           "#EF553B",
           "#00cc96",
           "#ab63fa",
           "#FFA15A",
           "#19d3f3",
           "#FF6692",
           "#B6E880",
           "#FF97FF",
           "#FECB52"
          ],
          "font": {
           "color": "#2a3f5f"
          },
          "geo": {
           "bgcolor": "white",
           "lakecolor": "white",
           "landcolor": "#E5ECF6",
           "showlakes": true,
           "showland": true,
           "subunitcolor": "white"
          },
          "hoverlabel": {
           "align": "left"
          },
          "hovermode": "closest",
          "mapbox": {
           "style": "light"
          },
          "paper_bgcolor": "white",
          "plot_bgcolor": "#E5ECF6",
          "polar": {
           "angularaxis": {
            "gridcolor": "white",
            "linecolor": "white",
            "ticks": ""
           },
           "bgcolor": "#E5ECF6",
           "radialaxis": {
            "gridcolor": "white",
            "linecolor": "white",
            "ticks": ""
           }
          },
          "scene": {
           "xaxis": {
            "backgroundcolor": "#E5ECF6",
            "gridcolor": "white",
            "gridwidth": 2,
            "linecolor": "white",
            "showbackground": true,
            "ticks": "",
            "zerolinecolor": "white"
           },
           "yaxis": {
            "backgroundcolor": "#E5ECF6",
            "gridcolor": "white",
            "gridwidth": 2,
            "linecolor": "white",
            "showbackground": true,
            "ticks": "",
            "zerolinecolor": "white"
           },
           "zaxis": {
            "backgroundcolor": "#E5ECF6",
            "gridcolor": "white",
            "gridwidth": 2,
            "linecolor": "white",
            "showbackground": true,
            "ticks": "",
            "zerolinecolor": "white"
           }
          },
          "shapedefaults": {
           "line": {
            "color": "#2a3f5f"
           }
          },
          "ternary": {
           "aaxis": {
            "gridcolor": "white",
            "linecolor": "white",
            "ticks": ""
           },
           "baxis": {
            "gridcolor": "white",
            "linecolor": "white",
            "ticks": ""
           },
           "bgcolor": "#E5ECF6",
           "caxis": {
            "gridcolor": "white",
            "linecolor": "white",
            "ticks": ""
           }
          },
          "title": {
           "x": 0.05
          },
          "xaxis": {
           "automargin": true,
           "gridcolor": "white",
           "linecolor": "white",
           "ticks": "",
           "title": {
            "standoff": 15
           },
           "zerolinecolor": "white",
           "zerolinewidth": 2
          },
          "yaxis": {
           "automargin": true,
           "gridcolor": "white",
           "linecolor": "white",
           "ticks": "",
           "title": {
            "standoff": 15
           },
           "zerolinecolor": "white",
           "zerolinewidth": 2
          }
         }
        },
        "title": {
         "text": "VNIndex 30 from 2019-01-02 to 2019-12-09"
        },
        "xaxis": {
         "anchor": "y",
         "domain": [
          0,
          1
         ],
         "matches": "x2",
         "showticklabels": false,
         "title": {
          "text": "Date"
         }
        },
        "xaxis2": {
         "anchor": "y2",
         "domain": [
          0,
          1
         ]
        },
        "yaxis": {
         "anchor": "x",
         "domain": [
          0.41200000000000003,
          1
         ],
         "title": {
          "text": "Price"
         }
        },
        "yaxis2": {
         "anchor": "x2",
         "domain": [
          0,
          0.392
         ]
        }
       }
      }
     },
     "metadata": {},
     "output_type": "display_data"
    }
   ],
   "source": [
    "from vnquant import plot\n",
    "plot.vnquant_candle_stick(data = data,\n",
    "                      title='VNIndex 30 from 2019-01-02 to 2019-12-09',\n",
    "                      ylab='Date', xlab='Price',\n",
    "                      show_vol=True)"
   ]
  }
 ],
 "metadata": {
  "kernelspec": {
   "display_name": "Python 3",
   "language": "python",
   "name": "python3"
  },
  "language_info": {
   "codemirror_mode": {
    "name": "ipython",
    "version": 3
   },
   "file_extension": ".py",
   "mimetype": "text/x-python",
   "name": "python",
   "nbconvert_exporter": "python",
   "pygments_lexer": "ipython3",
   "version": "3.12.0"
  }
 },
 "nbformat": 4,
 "nbformat_minor": 2
}
